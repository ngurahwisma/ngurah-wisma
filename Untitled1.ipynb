{
  "nbformat": 4,
  "nbformat_minor": 0,
  "metadata": {
    "colab": {
      "name": "Untitled1.ipynb",
      "provenance": [],
      "collapsed_sections": [],
      "authorship_tag": "ABX9TyP95mVeja7DEqR3dxTqD2gM",
      "include_colab_link": true
    },
    "kernelspec": {
      "name": "python3",
      "display_name": "Python 3"
    }
  },
  "cells": [
    {
      "cell_type": "markdown",
      "metadata": {
        "id": "view-in-github",
        "colab_type": "text"
      },
      "source": [
        "<a href=\"https://colab.research.google.com/github/ngurahwisma/ngurah-wisma/blob/master/Untitled1.ipynb\" target=\"_parent\"><img src=\"https://colab.research.google.com/assets/colab-badge.svg\" alt=\"Open In Colab\"/></a>"
      ]
    },
    {
      "cell_type": "code",
      "metadata": {
        "id": "-TEbGkbGlkey",
        "colab_type": "code",
        "colab": {}
      },
      "source": [
        "year = '2018'\n",
        "str = 'https://www.basketball-reference.com/leagues/NBA_{}_per_game.html'\n",
        "\n",
        "# Combining the URL + year strings together\n",
        "url = str.format(year)\n",
        "url"
      ],
      "execution_count": 0,
      "outputs": []
    },
    {
      "cell_type": "code",
      "metadata": {
        "id": "dSmb59KGl8RG",
        "colab_type": "code",
        "colab": {}
      },
      "source": [
        "import pandas as pd"
      ],
      "execution_count": 0,
      "outputs": []
    },
    {
      "cell_type": "code",
      "metadata": {
        "id": "B8SaqsglmI-u",
        "colab_type": "code",
        "colab": {}
      },
      "source": [
        "df = pd.read_html(url, header = 0)\n",
        "df"
      ],
      "execution_count": 0,
      "outputs": []
    },
    {
      "cell_type": "code",
      "metadata": {
        "id": "MTq2e_j8a_Vp",
        "colab_type": "code",
        "colab": {}
      },
      "source": [
        ""
      ],
      "execution_count": 0,
      "outputs": []
    },
    {
      "cell_type": "code",
      "metadata": {
        "id": "DtqvodsKmR8K",
        "colab_type": "code",
        "colab": {}
      },
      "source": [
        "len(df)"
      ],
      "execution_count": 0,
      "outputs": []
    },
    {
      "cell_type": "code",
      "metadata": {
        "id": "qlBc-tqumYEK",
        "colab_type": "code",
        "colab": {}
      },
      "source": [
        "df[0]"
      ],
      "execution_count": 0,
      "outputs": []
    },
    {
      "cell_type": "code",
      "metadata": {
        "id": "q7UB_uasmxA-",
        "colab_type": "code",
        "colab": {}
      },
      "source": [
        "df2018 = df[0]"
      ],
      "execution_count": 0,
      "outputs": []
    },
    {
      "cell_type": "code",
      "metadata": {
        "id": "TOVkeVJ3m7dY",
        "colab_type": "code",
        "colab": {}
      },
      "source": [
        "df2018[df2018.Age == 'Age']"
      ],
      "execution_count": 0,
      "outputs": []
    },
    {
      "cell_type": "code",
      "metadata": {
        "id": "v_Ou59XPnHrf",
        "colab_type": "code",
        "colab": {}
      },
      "source": [
        "len(df2018[df2018.Age == 'Age'])"
      ],
      "execution_count": 0,
      "outputs": []
    },
    {
      "cell_type": "code",
      "metadata": {
        "id": "x5-ZtgnMnPNe",
        "colab_type": "code",
        "colab": {}
      },
      "source": [
        "df = df2018.drop(df2018[df2018.Age == 'Age'].index)"
      ],
      "execution_count": 0,
      "outputs": []
    },
    {
      "cell_type": "code",
      "metadata": {
        "id": "UgFUB80_nWAl",
        "colab_type": "code",
        "colab": {}
      },
      "source": [
        "df.shape"
      ],
      "execution_count": 0,
      "outputs": []
    },
    {
      "cell_type": "code",
      "metadata": {
        "id": "Xg7PUe8tnby2",
        "colab_type": "code",
        "colab": {}
      },
      "source": [
        "import seaborn as sns"
      ],
      "execution_count": 0,
      "outputs": []
    },
    {
      "cell_type": "code",
      "metadata": {
        "id": "bxEDVTaCnixK",
        "colab_type": "code",
        "colab": {}
      },
      "source": [
        "sns.distplot(df.PTS, \n",
        "             kde=False)"
      ],
      "execution_count": 0,
      "outputs": []
    },
    {
      "cell_type": "code",
      "metadata": {
        "id": "EzMJRkbynpqL",
        "colab_type": "code",
        "colab": {}
      },
      "source": [
        "sns.distplot(df.PTS, \n",
        "             kde=False,\n",
        "             hist_kws=dict(edgecolor=\"white\", linewidth=3))"
      ],
      "execution_count": 0,
      "outputs": []
    },
    {
      "cell_type": "code",
      "metadata": {
        "id": "yQGic_Oqn0Ja",
        "colab_type": "code",
        "colab": {}
      },
      "source": [
        "sns.distplot(df.PTS,\n",
        "             kde=False,\n",
        "             hist_kws=dict(edgecolor=\"white\", linewidth=3),\n",
        "             color='#CC0000')"
      ],
      "execution_count": 0,
      "outputs": []
    }
  ]
}